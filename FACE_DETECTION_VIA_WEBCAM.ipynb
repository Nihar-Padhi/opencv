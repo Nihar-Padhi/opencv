{
 "cells": [
  {
   "cell_type": "code",
   "execution_count": null,
   "id": "418a780e",
   "metadata": {},
   "outputs": [],
   "source": [
    "import cv2\n",
    "from random import randrange"
   ]
  },
  {
   "cell_type": "code",
   "execution_count": null,
   "id": "43dab906",
   "metadata": {},
   "outputs": [],
   "source": [
    "face_data = cv2.CascadeClassifier(\"haarcascade_frontalface_default.xml\")\n",
    "\n",
    "webcam = cv2.VideoCapture(0)"
   ]
  },
  {
   "cell_type": "code",
   "execution_count": null,
   "id": "0f7c136f",
   "metadata": {},
   "outputs": [],
   "source": [
    "while True:\n",
    "    successful_frame_read , frame = webcam.read()\n",
    "    \n",
    "    gray_img = cv2.cvtColor(frame,cv2.COLOR_BGR2GRAY)\n",
    "    \n",
    "    face_coordinates = face_data.detectMultiScale(gray_img)\n",
    "    \n",
    "    for (x,y,w,h) in face_coordinates:\n",
    "      cv2.rectangle(frame,(x,y),(x+w,y+h) ,(),2)\n",
    "    \n",
    "    cv2.imshow(\"Face detector\",frame)\n",
    "    key = cv2.waitKey(1)\n",
    "    \n",
    "    if key==81 or key==113:\n",
    "        break\n",
    "        \n",
    "webcam.release()\n"
   ]
  },
  {
   "cell_type": "code",
   "execution_count": null,
   "id": "95b5d1a4",
   "metadata": {},
   "outputs": [],
   "source": []
  },
  {
   "cell_type": "code",
   "execution_count": null,
   "id": "82b9c235",
   "metadata": {},
   "outputs": [],
   "source": []
  }
 ],
 "metadata": {
  "kernelspec": {
   "display_name": "Python 3 (ipykernel)",
   "language": "python",
   "name": "python3"
  },
  "language_info": {
   "codemirror_mode": {
    "name": "ipython",
    "version": 3
   },
   "file_extension": ".py",
   "mimetype": "text/x-python",
   "name": "python",
   "nbconvert_exporter": "python",
   "pygments_lexer": "ipython3",
   "version": "3.9.7"
  }
 },
 "nbformat": 4,
 "nbformat_minor": 5
}
